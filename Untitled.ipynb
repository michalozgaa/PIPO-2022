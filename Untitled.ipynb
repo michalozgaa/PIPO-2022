{
  "metadata": {
    "language_info": {
      "codemirror_mode": {
        "name": "python",
        "version": 3
      },
      "file_extension": ".py",
      "mimetype": "text/x-python",
      "name": "python",
      "nbconvert_exporter": "python",
      "pygments_lexer": "ipython3",
      "version": "3.8"
    },
    "kernelspec": {
      "name": "python",
      "display_name": "Pyolite",
      "language": "python"
    }
  },
  "nbformat_minor": 4,
  "nbformat": 4,
  "cells": [
    {
      "cell_type": "raw",
      "source": "Zadanie 1 - symulacja ruletki przy użyciu metody Monte Carlo.",
      "metadata": {}
    },
    {
      "cell_type": "code",
      "source": "import numpy as np\nimport math as m\nimport matplotlib.pyplot as plt\nimport random as rnd\n\ndef roulette_bet(amount, wallet, var): \n  # var jest wariantem - 1 dla USA i 2 dla EU\n\n  prize = 0 # nagroda\n  draw = 0 #wylosowana liczba\n  dozen = rnd.randint(1,3) # 3 tuziny: 1-12, 13-24, 25-36\n  bet_won = False #początkowo zakład jest przegrany\n  wallet = sum(amount)\n\n  #krok 1 - wystarczajaca ilosc pieniedzy\n  if wallet <0:\n    wallet += amount\n    return wallet\n\n  if var == 1:\n    draw = rnd.randint(1, 38) \n    #wersja USA\n    #0 to 37\n    #00 to 38\n  elif var == 2:\n    draw = rnd.randint(1, 37) \n    #wersja EU\n    #0 to 37\n\n  if ((1 <= draw <=12 and dozen == 1) or (13<= draw <= 24 and dozen ==2) or (25<= dozen <= 35 and dozen==3)):\n    bet_won = True\n\n  if bet_won:\n    prize = amount*5\n    wallet = sum(prize)\n    return wallet\n\ndef monte_carlo(spins, bets, wallet, loops, mode):\n  total_result = np.zeros(spins)\n  average_results = np.zeros(spins)\n\n  for i in range(loops): #wszystkie iteracje\n    game_wallet = wallet\n    #druga pętla odpowiedzialna za ilości kręcenia ruletką\n    for j in range(spins):\n      #bet = bets[rnd.randint(1, len(bets)) - 1]\n      game_wallet = roulette_bet(bets, game_wallet, mode) #ustawienie zakładu\n\n      total_result[j] = game_wallet\n      average_results[j] = total_result[j]/(i+i)\n      \n    average_results = average_results.astype(int)\n    return average_results\n\n#sumylacja\nloop_count = 500\nspin_count = 150\nmain_wallet = 20000\nbet_10 = [10]\nbet_50 = [50]\nbet_100 = [100]\nbet_1000 = [1000]\nall_bets = [10, 50, 100, 1000]\n#warianty\ngameUSA = 1\ngameEU = 2\n\nx = np.arange(1, spin_count + 1)\n\n#sumulacje w wersji USA dla konkretnej kwoty zakladu i stalej iteracji\nusa1 = monte_carlo(spin_count, bet_10, main_wallet, loop_count, gameUSA)\nusa2 = monte_carlo(spin_count, bet_50, main_wallet, loop_count, gameUSA)\nusa3 = monte_carlo(spin_count, bet_100, main_wallet, loop_count, gameUSA)\nusa4 = monte_carlo(spin_count, bet_1000, main_wallet, loop_count, gameUSA)\n\n#symulacje w wersji EU dla konkretnej kwoty zakladu i stalej liczby iteracji\neu1 = monte_carlo(spin_count, bet_10, main_wallet, loop_count, gameEU)\neu2 = monte_carlo(spin_count, bet_50, main_wallet, loop_count, gameEU)\neu3 = monte_carlo(spin_count, bet_100, main_wallet, loop_count, gameEU)\neu4 = monte_carlo(spin_count, bet_1000, main_wallet, loop_count, gameEU)\n\n#symulacje z rozna liczba iteracji przy kwocie zakldadu 100zl\n#USA\nusa1_i = monte_carlo(spin_count, bet_100, main_wallet, 50, gameUSA)\nusa2_i = monte_carlo(spin_count, bet_100, main_wallet, 500, gameUSA)\nusa3_i = monte_carlo(spin_count, bet_100, main_wallet, 1200, gameUSA)\n#EU\neu1_i = monte_carlo(spin_count, bet_100, main_wallet, 50, gameEU)\neu2_i = monte_carlo(spin_count, bet_100, main_wallet, 500, gameEU)\neu3_i = monte_carlo(spin_count, bet_100, main_wallet, 1200, gameEU)\n\n#wykresy dla porównania\n\nfig, ax = plt.subplots(2, 2)\n\nax[0][0].set_title('Variant: European - different bets')\nax[0][0].plot(x, eu1, label='$ bet: 10', color='r', linewidth=2)\nax[0][0].plot(x, eu2, label='$ bet: 50', color='g', linewidth=2)\nax[0][0].plot(x, eu3, label='$ bet: 100', color='b', linewidth=2)\nax[0][0].plot(x, eu4, label='$ bet: 1000', color='m', linewidth=2)\nax[0][0].legend()\nax[0][0].grid(color='k', linestyle='-')\nax[0][0].set_xlim(0, spin_count)\nax[0][0].set_xlabel('Spin count')\nax[0][0].set_ylabel('Average')\n\nax[0][1].set_title('Varian: American - different bets')\nax[0][1].plot(x, usa1, label='$ bet: 10', color='r', linewidth=2)\nax[0][1].plot(x, usa2, label='$ bet: 50', color='g', linewidth=2)\nax[0][1].plot(x, usa3, label='$ bet: 100', color='b', linewidth=2)\nax[0][1].plot(x, usa4, label='$ bet: 1000', color='m', linewidth=2)\nax[0][1].legend()\nax[0][1].grid(color='k', linestyle='-')\nax[0][1].set_xlim(0, spin_count)\nax[0][1].set_xlabel('Spin count')\nax[0][1].set_ylabel('Average')\n\nax[1][0].set_title('Variant: European - different iterations')\nax[1][0].plot(x, eu1_i, label='Iterations: 50', color='r', linewidth=2)\nax[1][0].plot(x, eu2_i, label='Iterations: 500', color='g', linewidth=2)\nax[1][0].plot(x, eu3_i, label='Iterations: 1200', color='b', linewidth=2)\nax[1][0].legend()\nax[1][0].grid(color='k', linestyle='-')\nax[1][0].set_xlim(0, spin_count)\nax[1][0].set_xlabel('Spin count')\nax[1][0].set_ylabel('Average')\n\nax[1][1].set_title('Variant: American - different iterations')\nax[1][1].plot(x, usa1_i, label='Iterations: 50', color='r', linewidth=2)\nax[1][1].plot(x, usa2_i, label='Iterations: 500', color='g', linewidth=2)\nax[1][1].plot(x, usa3_i, label='Iterations: 1200', color='b', linewidth=2)\nax[1][1].legend()\nax[1][1].grid(color='k', linestyle='-')\nax[1][1].set_xlim(0, spin_count)\nax[1][1].set_xlabel('Spin count')\nax[1][1].set_ylabel('Average')",
      "metadata": {},
      "execution_count": null,
      "outputs": []
    }
  ]
}